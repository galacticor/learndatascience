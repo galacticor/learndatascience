{
  "nbformat": 4,
  "nbformat_minor": 0,
  "metadata": {
    "colab": {
      "name": "Latihan0.ipynb",
      "provenance": [],
      "collapsed_sections": [],
      "authorship_tag": "ABX9TyNC8BlqyAR1BIfGyVGE4zmH",
      "include_colab_link": true
    },
    "kernelspec": {
      "name": "python3",
      "display_name": "Python 3"
    }
  },
  "cells": [
    {
      "cell_type": "markdown",
      "metadata": {
        "id": "view-in-github",
        "colab_type": "text"
      },
      "source": [
        "<a href=\"https://colab.research.google.com/github/galacticor/learndatascience/blob/master/kaggle/Latihan1.ipynb\" target=\"_parent\"><img src=\"https://colab.research.google.com/assets/colab-badge.svg\" alt=\"Open In Colab\"/></a>"
      ]
    },
    {
      "cell_type": "code",
      "metadata": {
        "id": "JzNMRUNyykyd",
        "colab_type": "code",
        "colab": {}
      },
      "source": [
        "import pandas as pd\n",
        "import numpy as np\n"
      ],
      "execution_count": null,
      "outputs": []
    },
    {
      "cell_type": "code",
      "metadata": {
        "id": "AH7xoAGwy9fr",
        "colab_type": "code",
        "colab": {}
      },
      "source": [
        "melb_data = pd.read_csv(\"https://raw.githubusercontent.com/galacticor/Kuliah/master/DS/dataset/melb_data.csv\")"
      ],
      "execution_count": null,
      "outputs": []
    },
    {
      "cell_type": "code",
      "metadata": {
        "id": "yyU1gJLi_uo_",
        "colab_type": "code",
        "colab": {
          "base_uri": "https://localhost:8080/",
          "height": 297
        },
        "outputId": "3e40d565-307b-4d33-e897-57c3940e0b10"
      },
      "source": [
        "y = melb_data.Price\n",
        "melb_features = ['Rooms', 'Bathroom', 'Landsize', 'Lattitude', 'Longtitude']\n",
        "melb_data = melb_data.dropna()\n",
        "X = melb_data[melb_features]\n",
        "X.describe()"
      ],
      "execution_count": null,
      "outputs": [
        {
          "output_type": "execute_result",
          "data": {
            "text/html": [
              "<div>\n",
              "<style scoped>\n",
              "    .dataframe tbody tr th:only-of-type {\n",
              "        vertical-align: middle;\n",
              "    }\n",
              "\n",
              "    .dataframe tbody tr th {\n",
              "        vertical-align: top;\n",
              "    }\n",
              "\n",
              "    .dataframe thead th {\n",
              "        text-align: right;\n",
              "    }\n",
              "</style>\n",
              "<table border=\"1\" class=\"dataframe\">\n",
              "  <thead>\n",
              "    <tr style=\"text-align: right;\">\n",
              "      <th></th>\n",
              "      <th>Rooms</th>\n",
              "      <th>Bathroom</th>\n",
              "      <th>Landsize</th>\n",
              "      <th>Lattitude</th>\n",
              "      <th>Longtitude</th>\n",
              "    </tr>\n",
              "  </thead>\n",
              "  <tbody>\n",
              "    <tr>\n",
              "      <th>count</th>\n",
              "      <td>6196.000000</td>\n",
              "      <td>6196.000000</td>\n",
              "      <td>6196.000000</td>\n",
              "      <td>6196.000000</td>\n",
              "      <td>6196.000000</td>\n",
              "    </tr>\n",
              "    <tr>\n",
              "      <th>mean</th>\n",
              "      <td>2.931407</td>\n",
              "      <td>1.576340</td>\n",
              "      <td>471.006940</td>\n",
              "      <td>-37.807904</td>\n",
              "      <td>144.990201</td>\n",
              "    </tr>\n",
              "    <tr>\n",
              "      <th>std</th>\n",
              "      <td>0.971079</td>\n",
              "      <td>0.711362</td>\n",
              "      <td>897.449881</td>\n",
              "      <td>0.075850</td>\n",
              "      <td>0.099165</td>\n",
              "    </tr>\n",
              "    <tr>\n",
              "      <th>min</th>\n",
              "      <td>1.000000</td>\n",
              "      <td>1.000000</td>\n",
              "      <td>0.000000</td>\n",
              "      <td>-38.164920</td>\n",
              "      <td>144.542370</td>\n",
              "    </tr>\n",
              "    <tr>\n",
              "      <th>25%</th>\n",
              "      <td>2.000000</td>\n",
              "      <td>1.000000</td>\n",
              "      <td>152.000000</td>\n",
              "      <td>-37.855438</td>\n",
              "      <td>144.926198</td>\n",
              "    </tr>\n",
              "    <tr>\n",
              "      <th>50%</th>\n",
              "      <td>3.000000</td>\n",
              "      <td>1.000000</td>\n",
              "      <td>373.000000</td>\n",
              "      <td>-37.802250</td>\n",
              "      <td>144.995800</td>\n",
              "    </tr>\n",
              "    <tr>\n",
              "      <th>75%</th>\n",
              "      <td>4.000000</td>\n",
              "      <td>2.000000</td>\n",
              "      <td>628.000000</td>\n",
              "      <td>-37.758200</td>\n",
              "      <td>145.052700</td>\n",
              "    </tr>\n",
              "    <tr>\n",
              "      <th>max</th>\n",
              "      <td>8.000000</td>\n",
              "      <td>8.000000</td>\n",
              "      <td>37000.000000</td>\n",
              "      <td>-37.457090</td>\n",
              "      <td>145.526350</td>\n",
              "    </tr>\n",
              "  </tbody>\n",
              "</table>\n",
              "</div>"
            ],
            "text/plain": [
              "             Rooms     Bathroom      Landsize    Lattitude   Longtitude\n",
              "count  6196.000000  6196.000000   6196.000000  6196.000000  6196.000000\n",
              "mean      2.931407     1.576340    471.006940   -37.807904   144.990201\n",
              "std       0.971079     0.711362    897.449881     0.075850     0.099165\n",
              "min       1.000000     1.000000      0.000000   -38.164920   144.542370\n",
              "25%       2.000000     1.000000    152.000000   -37.855438   144.926198\n",
              "50%       3.000000     1.000000    373.000000   -37.802250   144.995800\n",
              "75%       4.000000     2.000000    628.000000   -37.758200   145.052700\n",
              "max       8.000000     8.000000  37000.000000   -37.457090   145.526350"
            ]
          },
          "metadata": {
            "tags": []
          },
          "execution_count": 9
        }
      ]
    },
    {
      "cell_type": "code",
      "metadata": {
        "id": "1ZSh1csLA5A3",
        "colab_type": "code",
        "colab": {
          "base_uri": "https://localhost:8080/",
          "height": 34
        },
        "outputId": "5fddc107-146b-4cb5-e711-6519e39230aa"
      },
      "source": [
        "from sklearn.tree import DecisionTreeRegressor\n",
        "from sklearn.metrics import mean_absolute_error\n",
        "\n",
        "def get_mae(train_X, val_X, train_y, val_y, max_leaf_nodes = None, random_state = 0):\n",
        "  model = DecisionTreeRegressor(max_leaf_nodes=max_leaf_nodes, random_state = random_state)\n",
        "  model.fit(train_X, train_y)\n",
        "  val_predict = model.predict(val_X)\n",
        "  mae = mean_absolute_error(val_predict, val_y)\n",
        "  return mae\n",
        "  \n",
        "val = get_mae(X,X,y,y)\n",
        "print(val)\n",
        "\n",
        "\n",
        "# Bisa dilihat hasil MAE awal kalo train dari valuenya"
      ],
      "execution_count": null,
      "outputs": [
        {
          "output_type": "stream",
          "text": [
            "1115.7467183128902\n"
          ],
          "name": "stdout"
        }
      ]
    },
    {
      "cell_type": "code",
      "metadata": {
        "id": "eAUWEE9ADO4u",
        "colab_type": "code",
        "colab": {
          "base_uri": "https://localhost:8080/",
          "height": 34
        },
        "outputId": "c59289dc-2a90-45b1-c650-aca720ac2c66"
      },
      "source": [
        "from sklearn.model_selection import train_test_split\n",
        "train_X, val_X, train_y, val_y = train_test_split(X,y, random_state = 1)\n",
        "val = get_mae(train_X, val_X, train_y, val_y, random_state = 1)\n",
        "print(val)\n",
        "\n",
        "# Bisa dilihat hasil MAE awal kalo train dari value hasil split dipilih yang mana yang buat train dan yang mana yang buat test,\n",
        "# nilai tambah gede karena ada model yang featurenya ga cocok karena kadang klo dimasukin data baru bukan dari train maka bisa error gede banget"
      ],
      "execution_count": null,
      "outputs": [
        {
          "output_type": "stream",
          "text": [
            "251688.7630729503\n"
          ],
          "name": "stdout"
        }
      ]
    },
    {
      "cell_type": "code",
      "metadata": {
        "id": "NHURZkP7DxWg",
        "colab_type": "code",
        "colab": {
          "base_uri": "https://localhost:8080/",
          "height": 34
        },
        "outputId": "3c684e78-92f9-404c-a680-a6f3c3c25f47"
      },
      "source": [
        "# max_leaf_nodes di sini itu jadi kedalaman maximal dari DecisionTreeRegressionnya.\n",
        "# ada point dimana dia jadi titik minimum, kita bisa lakukan ternary_search atau looping buat cari \n",
        "# nilai max_leaf_nodes agar dapet mae terkecil\n",
        "\n",
        "best_tree_size = 5\n",
        "min = 9999999999999\n",
        "# Write loop to find the ideal tree size from candidate_max_leaf_nodes\n",
        "\n",
        "for x in range(100,5000, 5):\n",
        "    tmp = get_mae(train_X, val_X, train_y, val_y, x)\n",
        "    if tmp < min:\n",
        "        min = tmp\n",
        "        best_tree_size = x\n",
        "    \n",
        "\n",
        "# Store the best value of max_leaf_nodes (it will be either 5, 25, 50, 100, 250 or 500)\n",
        "print(best_tree_size)\n",
        "\n",
        "# fungsi loop bisa dioptimisasi pake TERNARY_SEARCH"
      ],
      "execution_count": null,
      "outputs": [
        {
          "output_type": "stream",
          "text": [
            "250\n"
          ],
          "name": "stdout"
        }
      ]
    },
    {
      "cell_type": "code",
      "metadata": {
        "id": "7dSqfiUm1nPu",
        "colab_type": "code",
        "colab": {}
      },
      "source": [
        ""
      ],
      "execution_count": null,
      "outputs": []
    },
    {
      "cell_type": "code",
      "metadata": {
        "id": "4oU9Uo03NEB9",
        "colab_type": "code",
        "colab": {
          "base_uri": "https://localhost:8080/",
          "height": 34
        },
        "outputId": "b679f6b4-6793-4fc1-bb99-a3407457c1e6"
      },
      "source": [
        "def binary_search(train_X, val_X, train_y, val_y):\n",
        "  lo = 5\n",
        "  hi = 1000\n",
        "  while(lo <= hi):\n",
        "    mid = (lo+hi)//2\n",
        "    mae_mid = get_mae(train_X, val_X, train_y, val_y, mid)\n",
        "    mae_mid_left = get_mae(train_X, val_X, train_y, val_y, mid-1)\n",
        "    mae_mid_right = get_mae(train_X, val_X, train_y, val_y, mid+1)\n",
        "    if mae_mid < mae_mid_left and mae_mid < mae_mid_right:\n",
        "      return mid\n",
        "    elif mae_mid > mae_mid_left and mae_mid < mae_mid_right:\n",
        "      hi = mid\n",
        "    else:\n",
        "      lo = mid\n",
        "\n",
        "best_tree_size = binary_search(train_X, val_X, train_y, val_y)\n",
        "print(best_tree_size)\n"
      ],
      "execution_count": null,
      "outputs": [
        {
          "output_type": "stream",
          "text": [
            "502\n"
          ],
          "name": "stdout"
        }
      ]
    },
    {
      "cell_type": "code",
      "metadata": {
        "id": "p-waPIROzWWi",
        "colab_type": "code",
        "colab": {
          "base_uri": "https://localhost:8080/",
          "height": 119
        },
        "outputId": "f4ae8b14-3978-41fa-d9cb-8fbebf881be2"
      },
      "source": [
        "print(get_mae(train_X, val_X, train_y, val_y,250))\n",
        "print(get_mae(train_X, val_X, train_y, val_y,251))\n",
        "print(get_mae(train_X, val_X, train_y, val_y,252))\n",
        "print(get_mae(train_X, val_X, train_y, val_y,501))\n",
        "print(get_mae(train_X, val_X, train_y, val_y,502))\n",
        "print(get_mae(train_X, val_X, train_y, val_y,503))\n",
        "\n",
        "#oke dari sini ternyata gabisa sembarangan pake binary search karena ada 2 peak berbeda"
      ],
      "execution_count": null,
      "outputs": [
        {
          "output_type": "stream",
          "text": [
            "240719.92550287693\n",
            "240584.78771632264\n",
            "240662.78734742102\n",
            "244227.00523552002\n",
            "244102.19352904276\n",
            "244319.88236054697\n"
          ],
          "name": "stdout"
        }
      ]
    },
    {
      "cell_type": "code",
      "metadata": {
        "id": "buEDIlS_z5PT",
        "colab_type": "code",
        "colab": {
          "base_uri": "https://localhost:8080/",
          "height": 34
        },
        "outputId": "f35785a6-acc9-43b5-f86d-203159e241fd"
      },
      "source": [
        "# Model baru yaitu Random Forest Regression, buat menyelesaikan masalah overfitting dan underfitting\n",
        "# yang ada pada DecisionTreeRegressor untuk mendapat max_leaf_nodes optimum. Caranya sama persis kaya DecisionTree\n",
        "# The random forest uses many trees, and it makes a prediction by averaging the predictions of each component tree. \n",
        "# It generally has much better predictive accuracy than a single decision tree and it works well with default parameters. \n",
        "# If you keep modeling, you can learn more models with even better performance, but many of those are sensitive to getting the right parameters.\n",
        "\n",
        "from sklearn.ensemble import RandomForestRegressor\n",
        "from sklearn.metrics import mean_absolute_error\n",
        "\n",
        "forest_model = RandomForestRegressor(random_state=1)\n",
        "forest_model.fit(train_X, train_y)\n",
        "melb_preds = forest_model.predict(val_X)\n",
        "print(mean_absolute_error(val_y, melb_preds))\n",
        "\n",
        "# Terlihat improvement MAE dari yang dipake DecisionTreeRegressor dengan RandomForestRegressor, "
      ],
      "execution_count": null,
      "outputs": [
        {
          "output_type": "stream",
          "text": [
            "190414.59149025998\n"
          ],
          "name": "stdout"
        }
      ]
    }
  ]
}