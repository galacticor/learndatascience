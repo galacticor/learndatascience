{
 "cells": [
  {
   "cell_type": "code",
   "execution_count": 2,
   "metadata": {
    "_cell_guid": "b1076dfc-b9ad-4769-8c92-a6c4dae69d19",
    "_uuid": "8f2839f25d086af736a60e9eeb907d3b93b6e0e5"
   },
   "outputs": [],
   "source": [
    "# This Python 3 environment comes with many helpful analytics libraries installed\n",
    "# It is defined by the kaggle/python Docker image: https://github.com/kaggle/docker-python\n",
    "# For example, here's several helpful packages to load\n",
    "\n",
    "import numpy as np # linear algebra\n",
    "import pandas as pd # data processing, CSV file I/O (e.g. pd.read_csv)\n",
    "\n",
    "# Input data files are available in the read-only \"../input/\" directory\n",
    "# For example, running this (by clicking run or pressing Shift+Enter) will list all files under the input directory\n",
    "\n",
    "import os\n",
    "for dirname, _, filenames in os.walk('/kaggle/input'):\n",
    "    for filename in filenames:\n",
    "        print(os.path.join(dirname, filename))\n",
    "\n",
    "# You can write up to 5GB to the current directory (/kaggle/working/) that gets preserved as output when you create a version using \"Save & Run All\" \n",
    "# You can also write temporary files to /kaggle/temp/, but they won't be saved outside of the current session"
   ]
  },
  {
   "cell_type": "code",
   "execution_count": 2,
   "metadata": {
    "_cell_guid": "79c7e3d0-c299-4dcb-8224-4455121ee9b0",
    "_uuid": "d629ff2d2480ee46fbb7e2d37f6b5fab8052498a"
   },
   "outputs": [
    {
     "name": "stdout",
     "output_type": "stream",
     "text": [
      "<class 'pandas.core.frame.DataFrame'>\n",
      "RangeIndex: 1460 entries, 0 to 1459\n",
      "Data columns (total 38 columns):\n",
      " #   Column         Non-Null Count  Dtype  \n",
      "---  ------         --------------  -----  \n",
      " 0   Id             1460 non-null   int64  \n",
      " 1   MSSubClass     1460 non-null   int64  \n",
      " 2   LotFrontage    1201 non-null   float64\n",
      " 3   LotArea        1460 non-null   int64  \n",
      " 4   OverallQual    1460 non-null   int64  \n",
      " 5   OverallCond    1460 non-null   int64  \n",
      " 6   YearBuilt      1460 non-null   int64  \n",
      " 7   YearRemodAdd   1460 non-null   int64  \n",
      " 8   MasVnrArea     1452 non-null   float64\n",
      " 9   BsmtFinSF1     1460 non-null   int64  \n",
      " 10  BsmtFinSF2     1460 non-null   int64  \n",
      " 11  BsmtUnfSF      1460 non-null   int64  \n",
      " 12  TotalBsmtSF    1460 non-null   int64  \n",
      " 13  1stFlrSF       1460 non-null   int64  \n",
      " 14  2ndFlrSF       1460 non-null   int64  \n",
      " 15  LowQualFinSF   1460 non-null   int64  \n",
      " 16  GrLivArea      1460 non-null   int64  \n",
      " 17  BsmtFullBath   1460 non-null   int64  \n",
      " 18  BsmtHalfBath   1460 non-null   int64  \n",
      " 19  FullBath       1460 non-null   int64  \n",
      " 20  HalfBath       1460 non-null   int64  \n",
      " 21  BedroomAbvGr   1460 non-null   int64  \n",
      " 22  KitchenAbvGr   1460 non-null   int64  \n",
      " 23  TotRmsAbvGrd   1460 non-null   int64  \n",
      " 24  Fireplaces     1460 non-null   int64  \n",
      " 25  GarageYrBlt    1379 non-null   float64\n",
      " 26  GarageCars     1460 non-null   int64  \n",
      " 27  GarageArea     1460 non-null   int64  \n",
      " 28  WoodDeckSF     1460 non-null   int64  \n",
      " 29  OpenPorchSF    1460 non-null   int64  \n",
      " 30  EnclosedPorch  1460 non-null   int64  \n",
      " 31  3SsnPorch      1460 non-null   int64  \n",
      " 32  ScreenPorch    1460 non-null   int64  \n",
      " 33  PoolArea       1460 non-null   int64  \n",
      " 34  MiscVal        1460 non-null   int64  \n",
      " 35  MoSold         1460 non-null   int64  \n",
      " 36  YrSold         1460 non-null   int64  \n",
      " 37  SalePrice      1460 non-null   int64  \n",
      "dtypes: float64(3), int64(35)\n",
      "memory usage: 433.6 KB\n"
     ]
    }
   ],
   "source": [
    "dt_train = pd.read_csv(\"/kaggle/input/home-data-for-ml-course/train.csv\")\n",
    "dt_test = pd.read_csv(\"/kaggle/input/home-data-for-ml-course/test.csv\")\n",
    "dt_train.head()\n",
    "dt_train = dt_train.select_dtypes(exclude=['object'])\n",
    "dt_train.info()"
   ]
  },
  {
   "cell_type": "code",
   "execution_count": 3,
   "metadata": {},
   "outputs": [
    {
     "name": "stdout",
     "output_type": "stream",
     "text": [
      "<class 'pandas.core.frame.DataFrame'>\n",
      "RangeIndex: 1460 entries, 0 to 1459\n",
      "Data columns (total 10 columns):\n",
      " #   Column       Non-Null Count  Dtype\n",
      "---  ------       --------------  -----\n",
      " 0   MSSubClass   1460 non-null   int64\n",
      " 1   LotArea      1460 non-null   int64\n",
      " 2   YearBuilt    1460 non-null   int64\n",
      " 3   GrLivArea    1460 non-null   int64\n",
      " 4   OverallQual  1460 non-null   int64\n",
      " 5   OverallCond  1460 non-null   int64\n",
      " 6   BsmtFinSF1   1460 non-null   int64\n",
      " 7   2ndFlrSF     1460 non-null   int64\n",
      " 8   1stFlrSF     1460 non-null   int64\n",
      " 9   Fireplaces   1460 non-null   int64\n",
      "dtypes: int64(10)\n",
      "memory usage: 114.2 KB\n",
      "<class 'pandas.core.frame.DataFrame'>\n",
      "Int64Index: 1460 entries, 0 to 1459\n",
      "Data columns (total 10 columns):\n",
      " #   Column       Non-Null Count  Dtype\n",
      "---  ------       --------------  -----\n",
      " 0   MSSubClass   1460 non-null   int64\n",
      " 1   LotArea      1460 non-null   int64\n",
      " 2   YearBuilt    1460 non-null   int64\n",
      " 3   GrLivArea    1460 non-null   int64\n",
      " 4   OverallQual  1460 non-null   int64\n",
      " 5   OverallCond  1460 non-null   int64\n",
      " 6   BsmtFinSF1   1460 non-null   int64\n",
      " 7   2ndFlrSF     1460 non-null   int64\n",
      " 8   1stFlrSF     1460 non-null   int64\n",
      " 9   Fireplaces   1460 non-null   int64\n",
      "dtypes: int64(10)\n",
      "memory usage: 125.5 KB\n"
     ]
    }
   ],
   "source": [
    "features = ['MSSubClass','LotArea','YearBuilt','GrLivArea','OverallQual','OverallCond','BsmtFinSF1','2ndFlrSF','1stFlrSF','Fireplaces']\n",
    "X = dt_train[features]\n",
    "X.describe()\n",
    "X.info()\n",
    "X = X.dropna()\n",
    "X.info()\n",
    "y = dt_train.SalePrice"
   ]
  },
  {
   "cell_type": "code",
   "execution_count": 4,
   "metadata": {},
   "outputs": [
    {
     "name": "stdout",
     "output_type": "stream",
     "text": [
      "16382.204046966732\n"
     ]
    }
   ],
   "source": [
    "from sklearn.metrics import mean_absolute_error\n",
    "from sklearn.model_selection import train_test_split\n",
    "from sklearn.ensemble import RandomForestRegressor\n",
    "\n",
    "train_X, val_X, train_y, val_y = train_test_split(X,y,random_state = 1)\n",
    "model = RandomForestRegressor(random_state = 1)\n",
    "model.fit(train_X,train_y)\n",
    "preds = model.predict(val_X)\n",
    "print(mean_absolute_error(preds,val_y))"
   ]
  },
  {
   "cell_type": "code",
   "execution_count": 5,
   "metadata": {},
   "outputs": [
    {
     "name": "stdout",
     "output_type": "stream",
     "text": [
      "<class 'pandas.core.frame.DataFrame'>\n",
      "RangeIndex: 1459 entries, 0 to 1458\n",
      "Data columns (total 10 columns):\n",
      " #   Column       Non-Null Count  Dtype  \n",
      "---  ------       --------------  -----  \n",
      " 0   MSSubClass   1459 non-null   int64  \n",
      " 1   LotArea      1459 non-null   int64  \n",
      " 2   YearBuilt    1459 non-null   int64  \n",
      " 3   GrLivArea    1459 non-null   int64  \n",
      " 4   OverallQual  1459 non-null   int64  \n",
      " 5   OverallCond  1459 non-null   int64  \n",
      " 6   BsmtFinSF1   1458 non-null   float64\n",
      " 7   2ndFlrSF     1459 non-null   int64  \n",
      " 8   1stFlrSF     1459 non-null   int64  \n",
      " 9   Fireplaces   1459 non-null   int64  \n",
      "dtypes: float64(1), int64(9)\n",
      "memory usage: 114.1 KB\n"
     ]
    }
   ],
   "source": [
    "dt_test = dt_test.select_dtypes(exclude=['object'])\n",
    "test_X = dt_test[features]\n",
    "test_X.info()"
   ]
  },
  {
   "cell_type": "code",
   "execution_count": 6,
   "metadata": {},
   "outputs": [
    {
     "name": "stderr",
     "output_type": "stream",
     "text": [
      "/opt/conda/lib/python3.7/site-packages/pandas/core/generic.py:6245: SettingWithCopyWarning: \n",
      "A value is trying to be set on a copy of a slice from a DataFrame\n",
      "\n",
      "See the caveats in the documentation: https://pandas.pydata.org/pandas-docs/stable/user_guide/indexing.html#returning-a-view-versus-a-copy\n",
      "  self._update_inplace(new_data)\n"
     ]
    },
    {
     "data": {
      "text/plain": [
       "RandomForestRegressor(random_state=1)"
      ]
     },
     "execution_count": 6,
     "metadata": {},
     "output_type": "execute_result"
    }
   ],
   "source": [
    "test_X['BsmtFinSF1'].fillna(test_X['BsmtFinSF1'].mean(),inplace=True)\n",
    "model_full = RandomForestRegressor(random_state = 1)\n",
    "model_full.fit(X,y)"
   ]
  },
  {
   "cell_type": "code",
   "execution_count": 7,
   "metadata": {},
   "outputs": [
    {
     "name": "stdout",
     "output_type": "stream",
     "text": [
      "[126406.5  160198.5  183647.58 ... 168236.59 123075.1  227742.49]\n"
     ]
    }
   ],
   "source": [
    "test_preds = model_full.predict(test_X)\n",
    "print(test_preds)\n",
    "output = pd.DataFrame({'Id': dt_test.Id,\n",
    "                      'SalePrice':test_preds})\n",
    "output.to_csv('submission.csv',index=False)"
   ]
  }
 ],
 "metadata": {
  "kernelspec": {
   "display_name": "Python 3",
   "language": "python",
   "name": "python3"
  },
  "language_info": {
   "codemirror_mode": {
    "name": "ipython",
    "version": 3
   },
   "file_extension": ".py",
   "mimetype": "text/x-python",
   "name": "python",
   "nbconvert_exporter": "python",
   "pygments_lexer": "ipython3",
   "version": "3.7.3"
  }
 },
 "nbformat": 4,
 "nbformat_minor": 4
}
